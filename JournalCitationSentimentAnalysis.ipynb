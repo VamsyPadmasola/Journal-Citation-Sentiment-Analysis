{
 "cells": [
  {
   "cell_type": "code",
   "execution_count": 58,
   "id": "c6f6b66b",
   "metadata": {},
   "outputs": [],
   "source": [
    "import pandas as pd\n",
    "import re\n",
    "from nltk.corpus import stopwords\n",
    "from nltk.stem.porter import PorterStemmer\n",
    "from sklearn.feature_extraction.text import TfidfVectorizer\n",
    "from sklearn.metrics import precision_score, recall_score, f1_score, accuracy_score\n",
    "\n",
    "#import nltk\n",
    "#nltk.download('stopwords')\n",
    "data = pd.read_csv('citation_sentiment_corpus.txt', sep = \"\t\", header = None)"
   ]
  },
  {
   "cell_type": "code",
   "execution_count": 59,
   "id": "7ea35014",
   "metadata": {},
   "outputs": [],
   "source": [
    "data.columns = [\"Source_PaperID\", \"Target_PaperID\", \"Sentiment\", \"Citation_text\"]"
   ]
  },
  {
   "cell_type": "code",
   "execution_count": 61,
   "id": "77e38eff",
   "metadata": {},
   "outputs": [
    {
     "name": "stdout",
     "output_type": "stream",
     "text": [
      "     Source_PaperID Target_PaperID Sentiment  \\\n",
      "0          A00-1043       A00-2024         o   \n",
      "1          H05-1033       A00-2024         o   \n",
      "2          I05-2009       A00-2024         o   \n",
      "3          I05-2009       A00-2024         o   \n",
      "4          I05-2009       A00-2024         o   \n",
      "...             ...            ...       ...   \n",
      "8731       W98-1118       W96-0213         p   \n",
      "8732       W99-0606       W96-0213         o   \n",
      "8733       W99-0607       W96-0213         o   \n",
      "8734       W99-0607       W96-0213         p   \n",
      "8735       W99-0608       W96-0213         o   \n",
      "\n",
      "                                          Citation_text  \n",
      "0     We analyzed a set of articles and identified s...  \n",
      "1     Table 3: Example compressions Compression AvgL...  \n",
      "2     5.3 Related works and discussion Our two-step ...  \n",
      "3     (1999) proposed a summarization system based o...  \n",
      "4     We found that the deletion of lead parts did n...  \n",
      "...                                                 ...  \n",
      "8731  He has achieved state-of-the art results by ap...  \n",
      "8732  B = (Brill and Wu, 1998); M = (Magerman, 1995)...  \n",
      "8733  The model we use is similar to that of (Ratnap...  \n",
      "8734  Our model exploits the same kind of tag-n-gram...  \n",
      "8735  In that table, TBL stands for Brill's transfor...  \n",
      "\n",
      "[8736 rows x 4 columns]\n",
      "Counter({'o': 7627, 'p': 829, 'n': 280})\n"
     ]
    }
   ],
   "source": [
    "print(data)\n",
    "import collections, numpy\n",
    "counter = collections.Counter(data['Sentiment'].values)\n",
    "print(counter)"
   ]
  },
  {
   "cell_type": "markdown",
   "id": "523f5f01",
   "metadata": {},
   "source": [
    "data.Sentiment = data.Sentiment.replace({\"o\": \"0\",\n",
    "                                         \"p\": \"1\",\n",
    "                                         \"n\": \"-1\"})"
   ]
  },
  {
   "cell_type": "code",
   "execution_count": 5,
   "id": "881d815d",
   "metadata": {},
   "outputs": [
    {
     "name": "stdout",
     "output_type": "stream",
     "text": [
      "     Source_PaperID Target_PaperID Sentiment  \\\n",
      "0          A00-1043       A00-2024         0   \n",
      "1          H05-1033       A00-2024         0   \n",
      "2          I05-2009       A00-2024         0   \n",
      "3          I05-2009       A00-2024         0   \n",
      "4          I05-2009       A00-2024         0   \n",
      "...             ...            ...       ...   \n",
      "8731       W98-1118       W96-0213         1   \n",
      "8732       W99-0606       W96-0213         0   \n",
      "8733       W99-0607       W96-0213         0   \n",
      "8734       W99-0607       W96-0213         1   \n",
      "8735       W99-0608       W96-0213         0   \n",
      "\n",
      "                                          Citation_text  \n",
      "0     We analyzed a set of articles and identified s...  \n",
      "1     Table 3: Example compressions Compression AvgL...  \n",
      "2     5.3 Related works and discussion Our two-step ...  \n",
      "3     (1999) proposed a summarization system based o...  \n",
      "4     We found that the deletion of lead parts did n...  \n",
      "...                                                 ...  \n",
      "8731  He has achieved state-of-the art results by ap...  \n",
      "8732  B = (Brill and Wu, 1998); M = (Magerman, 1995)...  \n",
      "8733  The model we use is similar to that of (Ratnap...  \n",
      "8734  Our model exploits the same kind of tag-n-gram...  \n",
      "8735  In that table, TBL stands for Brill's transfor...  \n",
      "\n",
      "[8736 rows x 4 columns]\n"
     ]
    }
   ],
   "source": [
    "print(data)"
   ]
  },
  {
   "cell_type": "code",
   "execution_count": 6,
   "id": "f0dc81fe",
   "metadata": {},
   "outputs": [
    {
     "data": {
      "text/plain": [
       "Source_PaperID    0\n",
       "Target_PaperID    0\n",
       "Sentiment         0\n",
       "Citation_text     0\n",
       "dtype: int64"
      ]
     },
     "execution_count": 6,
     "metadata": {},
     "output_type": "execute_result"
    }
   ],
   "source": [
    "data.isnull().sum()"
   ]
  },
  {
   "cell_type": "code",
   "execution_count": 7,
   "id": "e90d11d1",
   "metadata": {},
   "outputs": [],
   "source": [
    "Y = data['Sentiment']"
   ]
  },
  {
   "cell_type": "code",
   "execution_count": 8,
   "id": "05d06299",
   "metadata": {},
   "outputs": [],
   "source": [
    "port_stem = PorterStemmer()"
   ]
  },
  {
   "cell_type": "code",
   "execution_count": 9,
   "id": "96e45a7d",
   "metadata": {},
   "outputs": [],
   "source": [
    "def stemming(content):\n",
    "    stemmed_content = re.sub('[^a-zA-Z]',' ',content)\n",
    "    stemmed_content = stemmed_content.lower()\n",
    "    stemmed_content = stemmed_content.split()\n",
    "    stemmed_content = [port_stem.stem(word) for word in stemmed_content \n",
    "                       if not word in stopwords.words('english')]\n",
    "    stemmed_content = ' '.join(stemmed_content)\n",
    "    return stemmed_content"
   ]
  },
  {
   "cell_type": "code",
   "execution_count": 10,
   "id": "4516501f",
   "metadata": {},
   "outputs": [],
   "source": [
    "data['Citation_text'] = data['Citation_text'].apply(stemming)"
   ]
  },
  {
   "cell_type": "code",
   "execution_count": 11,
   "id": "7cde080f",
   "metadata": {},
   "outputs": [
    {
     "name": "stdout",
     "output_type": "stream",
     "text": [
      "0       analyz set articl identifi six major oper use ...\n",
      "1       tabl exampl compress compress avglen rate base...\n",
      "2       relat work discuss two step model essenti belo...\n",
      "3       propos summar system base draft revis jing mck...\n",
      "4       found delet lead part occur often summari unli...\n",
      "                              ...                        \n",
      "8731    achiev state art result appli e pars ratnapark...\n",
      "8732    b brill wu magerman data r ratnaparkhi w weisc...\n",
      "8733                        model use similar ratnaparkhi\n",
      "8734    model exploit kind tag n gram inform form core...\n",
      "8735    tabl tbl stand brill transform base error driv...\n",
      "Name: Citation_text, Length: 8736, dtype: object\n"
     ]
    }
   ],
   "source": [
    "print(data['Citation_text'])"
   ]
  },
  {
   "cell_type": "code",
   "execution_count": null,
   "id": "b1ff55df",
   "metadata": {},
   "outputs": [],
   "source": []
  },
  {
   "cell_type": "code",
   "execution_count": 12,
   "id": "fade4543",
   "metadata": {},
   "outputs": [],
   "source": [
    "X = data['Citation_text'].values\n",
    "Y = data['Sentiment'].values"
   ]
  },
  {
   "cell_type": "code",
   "execution_count": 13,
   "id": "f325f78d",
   "metadata": {},
   "outputs": [],
   "source": [
    "# !pip install -U imbalanced-learn"
   ]
  },
  {
   "cell_type": "code",
   "execution_count": 14,
   "id": "b061c682",
   "metadata": {},
   "outputs": [
    {
     "name": "stdout",
     "output_type": "stream",
     "text": [
      "['analyz set articl identifi six major oper use edit extract sentenc includ remov extran phrase extract sentenc combin reduc sentenc sentenc syntact transform substitut phrase extract sentenc paraphras substitut phrase gener specif descript reorder extract sentenc jing mckeown jing mckeown'\n",
      " 'tabl exampl compress compress avglen rate baselin bt step spade human tabl mean rate automat compress nalli ad simpl baselin compress algorithm propos jing mckeown remov preposit phrase claus toinfinit gerund'\n",
      " 'relat work discuss two step model essenti belong categori work mani et al jing mckeown'\n",
      " ... 'model use similar ratnaparkhi'\n",
      " 'model exploit kind tag n gram inform form core mani success tag model exampl kupiec merialdo ratnaparkhi'\n",
      " 'tabl tbl stand brill transform base error driven tagget brill stand tagger base maimum entropi model ratnaparkhi spatter stand statist parser base decis tree magerman igtre stand memori base tagger daeleman et al']\n"
     ]
    }
   ],
   "source": [
    "print(X)"
   ]
  },
  {
   "cell_type": "code",
   "execution_count": 15,
   "id": "ac32a57f",
   "metadata": {},
   "outputs": [
    {
     "name": "stdout",
     "output_type": "stream",
     "text": [
      "['0' '0' '0' ... '0' '1' '0']\n"
     ]
    }
   ],
   "source": [
    "print(Y)"
   ]
  },
  {
   "cell_type": "code",
   "execution_count": 16,
   "id": "d4029cd8",
   "metadata": {},
   "outputs": [
    {
     "name": "stdout",
     "output_type": "stream",
     "text": [
      "Counter({'0': 7627, '1': 829, '-1': 280})\n"
     ]
    }
   ],
   "source": [
    "import collections, numpy\n",
    "counter = collections.Counter(Y)\n",
    "print(counter)"
   ]
  },
  {
   "cell_type": "code",
   "execution_count": 17,
   "id": "6fb20f5a",
   "metadata": {},
   "outputs": [
    {
     "data": {
      "text/plain": [
       "'analyz set articl identifi six major oper use edit extract sentenc includ remov extran phrase extract sentenc combin reduc sentenc sentenc syntact transform substitut phrase extract sentenc paraphras substitut phrase gener specif descript reorder extract sentenc jing mckeown jing mckeown'"
      ]
     },
     "execution_count": 17,
     "metadata": {},
     "output_type": "execute_result"
    }
   ],
   "source": [
    "vectorizer = TfidfVectorizer()\n",
    "vectorizer.fit(X)\n",
    "\n",
    "X = vectorizer.transform(X)\n",
    "data['Citation_text'].values[0]\n"
   ]
  },
  {
   "cell_type": "code",
   "execution_count": 18,
   "id": "57e37ebb",
   "metadata": {},
   "outputs": [],
   "source": [
    "from imblearn import under_sampling \n",
    "from imblearn import over_sampling\n",
    "from imblearn.over_sampling import SMOTE\n",
    "\n",
    "sm = SMOTE(random_state = 42)\n",
    "X, Y = sm.fit_resample(X,Y)"
   ]
  },
  {
   "cell_type": "code",
   "execution_count": 19,
   "id": "8b4f7bec",
   "metadata": {},
   "outputs": [
    {
     "name": "stdout",
     "output_type": "stream",
     "text": [
      "Counter({'0': 7627, '1': 7627, '-1': 7627})\n"
     ]
    }
   ],
   "source": [
    "import collections, numpy\n",
    "counter = collections.Counter(Y)\n",
    "print(counter)"
   ]
  },
  {
   "cell_type": "code",
   "execution_count": 20,
   "id": "cfb33038",
   "metadata": {},
   "outputs": [],
   "source": [
    "import numpy as np\n",
    "from sklearn.model_selection import train_test_split\n",
    "X_train, X_test, y_train, y_test = train_test_split(X, Y, test_size=0.3, random_state=42)"
   ]
  },
  {
   "cell_type": "code",
   "execution_count": 21,
   "id": "be2137aa",
   "metadata": {},
   "outputs": [
    {
     "name": "stdout",
     "output_type": "stream",
     "text": [
      "  (0, 262)\t0.22501479923302373\n",
      "  (0, 403)\t0.23843040646971747\n",
      "  (0, 2395)\t0.22581300108612398\n",
      "  (0, 5005)\t0.29793784428093906\n",
      "  (0, 5764)\t0.14052516383961272\n",
      "  (0, 6066)\t0.25580906984515883\n",
      "  (0, 6547)\t0.15885205788881704\n",
      "  (0, 9749)\t0.23788784688553072\n",
      "  (0, 222)\t0.07126412504980759\n",
      "  (0, 783)\t0.006213991850099465\n",
      "  (0, 917)\t0.30308981073537833\n",
      "  (0, 1150)\t0.14012306716216671\n",
      "  (0, 2838)\t0.013323701894482953\n",
      "  (0, 3001)\t0.07135557274648326\n",
      "  (0, 3025)\t0.008292034530138409\n",
      "  (0, 3691)\t0.3070629090974216\n",
      "  (0, 4213)\t0.18247718058641896\n",
      "  (0, 4373)\t0.013797039095538893\n",
      "  (0, 4516)\t0.009531976153987626\n",
      "  (0, 4892)\t0.007857970108794549\n",
      "  (0, 5440)\t0.16335233404419747\n",
      "  (0, 5524)\t0.007052849875504363\n",
      "  (0, 5897)\t0.11740466353295989\n",
      "  (0, 6237)\t0.008502502487422847\n",
      "  (0, 6477)\t0.007038736491700323\n",
      "  :\t:\n",
      "  (16015, 360)\t0.27185330087143067\n",
      "  (16015, 1637)\t0.20984379328005154\n",
      "  (16015, 1838)\t0.17232244780789416\n",
      "  (16015, 2838)\t0.17801094240087534\n",
      "  (16015, 3082)\t0.22245735621785692\n",
      "  (16015, 3124)\t0.16761934505434029\n",
      "  (16015, 3569)\t0.2154695627337021\n",
      "  (16015, 4131)\t0.27185330087143067\n",
      "  (16015, 4336)\t0.2355538554943777\n",
      "  (16015, 4596)\t0.1773964060099396\n",
      "  (16015, 4886)\t0.15850044085684395\n",
      "  (16015, 5005)\t0.1039977796481098\n",
      "  (16015, 5930)\t0.20818759911307824\n",
      "  (16015, 6237)\t0.1135974440540919\n",
      "  (16015, 6610)\t0.17054021257800506\n",
      "  (16015, 6711)\t0.12497921867294508\n",
      "  (16015, 7700)\t0.159986690199021\n",
      "  (16015, 7726)\t0.15850044085684395\n",
      "  (16015, 7785)\t0.2134704591259745\n",
      "  (16015, 7957)\t0.12666758997766775\n",
      "  (16015, 8756)\t0.19338616636529893\n",
      "  (16015, 9845)\t0.17582307259090135\n",
      "  (16015, 10118)\t0.1336202829008184\n",
      "  (16015, 10333)\t0.13050421449228503\n",
      "  (16015, 10468)\t0.17976757171022764\n"
     ]
    }
   ],
   "source": [
    "print(X_train)"
   ]
  },
  {
   "cell_type": "code",
   "execution_count": 39,
   "id": "845e9c61",
   "metadata": {},
   "outputs": [],
   "source": [
    "from sklearn.linear_model import LogisticRegression\n",
    "lr = LogisticRegression(solver='lbfgs', max_iter=1000)\n",
    "lr.fit(X_train, y_train)\n",
    "y_pred_lr = lr.predict(X_test)\n",
    "acc_lr = accuracy_score(y_test, y_pred_lr) * 100"
   ]
  },
  {
   "cell_type": "code",
   "execution_count": 40,
   "id": "451cf74c",
   "metadata": {},
   "outputs": [],
   "source": [
    "from sklearn import tree\n",
    "DTclf = tree.DecisionTreeClassifier()\n",
    "DTclf.fit(X_train, y_train)\n",
    "y_pred_dt = DTclf.predict(X_test) \n",
    "acc_dt = accuracy_score(y_test, y_pred_dt) * 100"
   ]
  },
  {
   "cell_type": "code",
   "execution_count": 41,
   "id": "42c9139c",
   "metadata": {},
   "outputs": [],
   "source": [
    "from sklearn.ensemble import RandomForestClassifier\n",
    "RFclf = RandomForestClassifier(max_depth=2, random_state=0)\n",
    "RFclf.fit(X_train, y_train)\n",
    "y_pred_RF = RFclf.predict(X_test)\n",
    "acc_rf = accuracy_score(y_test, y_pred_RF) * 100"
   ]
  },
  {
   "cell_type": "code",
   "execution_count": 42,
   "id": "7a48e8e1",
   "metadata": {},
   "outputs": [],
   "source": [
    "from sklearn import svm\n",
    "SVMclf = svm.SVC()\n",
    "SVMclf.fit(X_train, y_train)\n",
    "y_pred_svm = SVMclf.predict(X_test)\n",
    "acc_svm = accuracy_score(y_test, y_pred_svm) * 100"
   ]
  },
  {
   "cell_type": "code",
   "execution_count": 43,
   "id": "05ff5231",
   "metadata": {},
   "outputs": [],
   "source": [
    "from sklearn.ensemble import AdaBoostClassifier\n",
    "ADAclf = AdaBoostClassifier(n_estimators=100, random_state=0)\n",
    "ADAclf.fit(X_train, y_train)\n",
    "y_pred_ada = ADAclf.predict(X_test)\n",
    "acc_ada = accuracy_score(y_test, y_pred_ada) * 100"
   ]
  },
  {
   "cell_type": "code",
   "execution_count": 44,
   "id": "05c92142",
   "metadata": {},
   "outputs": [],
   "source": [
    "from sklearn.ensemble import ExtraTreesClassifier\n",
    "ETclf = ExtraTreesClassifier(n_estimators=100, random_state=0)\n",
    "ETclf.fit(X_train, y_train)\n",
    "y_pred_et = ETclf.predict(X_test)\n",
    "acc_et = accuracy_score(y_test, y_pred_et) * 100"
   ]
  },
  {
   "cell_type": "code",
   "execution_count": 45,
   "id": "69f76c6a",
   "metadata": {},
   "outputs": [
    {
     "name": "stdout",
     "output_type": "stream",
     "text": [
      "[94.17334304442826, 91.7115804806992, 70.5753823743627, 97.8150036416606, 81.6897305171158, 98.0626365622724]\n"
     ]
    }
   ],
   "source": [
    "accuracy = [acc_lr, acc_dt, acc_rf, acc_svm, acc_ada, acc_et] \n",
    "models = [\"Logistic Regression\", \"Decision Tree\", \"Random Forest\", \"SVM\", \"AdaBoost\", \"Extra Tree\"]\n",
    "print(accuracy) "
   ]
  },
  {
   "cell_type": "code",
   "execution_count": 56,
   "id": "400ddd36",
   "metadata": {},
   "outputs": [
    {
     "data": {
      "image/png": "[encoded data removed]",
      "text/plain": [
       "<Figure size 432x288 with 1 Axes>"
      ]
     },
     "metadata": {
      "needs_background": "light"
     },
     "output_type": "display_data"
    }
   ],
   "source": [
    "import matplotlib.pyplot as plt\n",
    "\n",
    "fig, ax = plt.subplots()\n",
    "\n",
    "bar_labels = ['red', 'blue', 'olive', 'orange', 'purple', 'green']\n",
    "bar_colors = ['tab:red', 'tab:blue', 'tab:olive', 'tab:orange', 'tab:purple', 'tab:green']\n",
    "\n",
    "ax.bar(models, accuracy, label=bar_labels, color=bar_colors)\n",
    "plt.ylim(0, 100)\n",
    "\n",
    "\n",
    "plt.show() "
   ]
  },
  {
   "cell_type": "code",
   "execution_count": null,
   "id": "e671d1f0",
   "metadata": {},
   "outputs": [],
   "source": []
  }
 ],
 "metadata": {
  "kernelspec": {
   "display_name": "Python 3 (ipykernel)",
   "language": "python",
   "name": "python3"
  },
  "language_info": {
   "codemirror_mode": {
    "name": "ipython",
    "version": 3
   },
   "file_extension": ".py",
   "mimetype": "text/x-python",
   "name": "python",
   "nbconvert_exporter": "python",
   "pygments_lexer": "ipython3",
   "version": "3.9.7"
  }
 },
 "nbformat": 4,
 "nbformat_minor": 5
}
